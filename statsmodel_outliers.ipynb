{
 "metadata": {
  "name": "",
  "signature": "sha256:5edfcb944fad21b70b2ac18e452de078e0a558ad4a1f85c36b7a1277b83d12dd"
 },
 "nbformat": 3,
 "nbformat_minor": 0,
 "worksheets": [
  {
   "cells": [
    {
     "cell_type": "code",
     "collapsed": false,
     "input": [
      "import pandas as pd\n",
      "import pandas.io.data\n",
      "from pandas import Series, DataFrame\n",
      "import statsmodels.api as sm"
     ],
     "language": "python",
     "metadata": {},
     "outputs": [],
     "prompt_number": 2
    },
    {
     "cell_type": "code",
     "collapsed": false,
     "input": [
      "def ols_shift_trim(prices, sec1, sec2, shift, p_trim):\n",
      "    \"\"\"\n",
      "    Computes shifted and outlier-trimmed regression coefficients (slope and intercept)\n",
      "    via Ordinary Least Squares between two securities.\n",
      "    \"\"\"\n",
      "    p0 = prices[sec1].shift(-shift)[:-shift]\n",
      "    p1 = prices[sec2][:-shift]\n",
      "    \n",
      "    return ols_trim_outliers(p0,p1,p_trim)\n",
      "\n",
      "def ols_trim_outliers(x,y, p_val):\n",
      "    '''\n",
      "    returns a statsmodel RegressionResults object with linear model \n",
      "    fit info after trimming out any outliers with p value below p_val.\n",
      "    also returns the indicies that were outliers.\n",
      "    '''\n",
      "    outlier_p_vals = sm.OLS(y,sm.add_constant(x,prepend=True)).fit().outlier_test().unadj_p\n",
      "    non_outlier_indicies = np.where(outlier_p_vals > p_val)\n",
      "    outlier_indicies = np.where(outlier_p_vals < p_val)\n",
      "\n",
      "    x_trimmed = x.iloc[non_outlier_indicies]\n",
      "    y_trimmed = y.iloc[non_outlier_indicies]\n",
      "    \n",
      "    results = sm.OLS(y_trimmed,sm.add_constant(x_trimmed,prepend=True)).fit()\n",
      "    return results,outlier_indicies\n",
      "    \n",
      "df = pd.io.data.get_data_yahoo(['KO', 'PEP'],start=datetime.datetime(2010, 3, 1), \n",
      "                               end=datetime.datetime(2010, 5,1))['Adj Close']\n"
     ],
     "language": "python",
     "metadata": {},
     "outputs": [],
     "prompt_number": 92
    },
    {
     "cell_type": "code",
     "collapsed": false,
     "input": [
      "x = df.KO\n",
      "y = df.PEP\n",
      "scatter(x,y)\n",
      "b,a = sm.OLS(y,sm.add_constant(x,prepend=True)).fit().params\n",
      "plot([min(x),max(x)],[b+a*min(x),b+a*max(x)])\n",
      "print b,a\n",
      "\n",
      "results,outlier_ix = ols_trim_outliers(x,y,.05)\n",
      "scatter(x.iloc[outlier_ix],y.iloc[outlier_ix],color='red')\n",
      "b,a = results.params\n",
      "plot([min(x),max(x)],[b+a*min(x),b+a*max(x)],linestyle='--')\n"
     ],
     "language": "python",
     "metadata": {},
     "outputs": [
      {
       "output_type": "stream",
       "stream": "stdout",
       "text": [
        "4.11735974242 2.23715712092\n"
       ]
      },
      {
       "metadata": {},
       "output_type": "pyout",
       "prompt_number": 90,
       "text": [
        "[<matplotlib.lines.Line2D at 0x10e72df50>]"
       ]
      },
      {
       "metadata": {},
       "output_type": "display_data",
       "png": "[encoded data removed]",
       "text": [
        "<matplotlib.figure.Figure at 0x10e823b50>"
       ]
      }
     ],
     "prompt_number": 90
    },
    {
     "cell_type": "code",
     "collapsed": false,
     "input": [
      "shift = 3\n",
      "\n",
      "results,outlier_ix = ols_shift_trim(df,'KO','PEP',shift,.1)\n",
      "\n",
      "x,y = df.KO.shift(-shift),df.PEP\n",
      "scatter(x,y)\n",
      "scatter(x.iloc[outlier_ix],y.iloc[outlier_ix],color='red')\n",
      "b,a = results.params\n",
      "plot([min(x),max(x)],[b+a*min(x),b+a*max(x)],linestyle='--')\n"
     ],
     "language": "python",
     "metadata": {},
     "outputs": [
      {
       "metadata": {},
       "output_type": "pyout",
       "prompt_number": 103,
       "text": [
        "[<matplotlib.lines.Line2D at 0x10fc00910>]"
       ]
      },
      {
       "metadata": {},
       "output_type": "display_data",
       "png": "[encoded data removed]",
       "text": [
        "<matplotlib.figure.Figure at 0x10ec1a0d0>"
       ]
      }
     ],
     "prompt_number": 103
    },
    {
     "cell_type": "code",
     "collapsed": false,
     "input": [],
     "language": "python",
     "metadata": {},
     "outputs": []
    }
   ],
   "metadata": {}
  }
 ]
}