{
 "metadata": {
  "name": "",
  "signature": "sha256:ef00be9bfad226993fa636f78ac809fed07f439da64f3d165f4b0c7df7914b16"
 },
 "nbformat": 3,
 "nbformat_minor": 0,
 "worksheets": [
  {
   "cells": [
    {
     "cell_type": "heading",
     "level": 1,
     "metadata": {},
     "source": [
      "Summary"
     ]
    },
    {
     "cell_type": "heading",
     "level": 3,
     "metadata": {},
     "source": [
      "Poking around with ideas for building stock prediction schemes. Some super basic ideas here to get things rolling... "
     ]
    },
    {
     "cell_type": "code",
     "collapsed": false,
     "input": [
      "import pandas as pd\n",
      "import pandas.io.data\n",
      "from pandas import Series, DataFrame\n",
      "import statsmodels.api as sm"
     ],
     "language": "python",
     "metadata": {},
     "outputs": [],
     "prompt_number": 122
    },
    {
     "cell_type": "heading",
     "level": 2,
     "metadata": {},
     "source": [
      "grab two months of data for Coke and Pepsi."
     ]
    },
    {
     "cell_type": "code",
     "collapsed": false,
     "input": [
      "df = pd.io.data.get_data_yahoo(['KO', 'PEP'],start=datetime.datetime(2010, 1, 1), \n",
      "                               end=datetime.datetime(2010, 3,1))['Adj Close']"
     ],
     "language": "python",
     "metadata": {},
     "outputs": [],
     "prompt_number": 115
    },
    {
     "cell_type": "heading",
     "level": 2,
     "metadata": {},
     "source": [
      " how do they correlate?"
     ]
    },
    {
     "cell_type": "code",
     "collapsed": false,
     "input": [
      "x = df.KO\n",
      "y = df.PEP\n",
      "scatter(x,y)\n",
      "b,a = sm.OLS(y,sm.add_constant(x,prepend=True)).fit().params\n",
      "plot([min(x),max(x)],[b+a*min(x),b+a*max(x)])"
     ],
     "language": "python",
     "metadata": {},
     "outputs": [
      {
       "metadata": {},
       "output_type": "pyout",
       "prompt_number": 117,
       "text": [
        "[<matplotlib.lines.Line2D at 0x111004190>]"
       ]
      },
      {
       "metadata": {},
       "output_type": "display_data",
       "png": "[encoded data removed]",
       "text": [
        "<matplotlib.figure.Figure at 0x1112756d0>"
       ]
      }
     ],
     "prompt_number": 117
    },
    {
     "cell_type": "heading",
     "level": 2,
     "metadata": {},
     "source": [
      "exploring the effect of trimming outliers below a certain p-value"
     ]
    },
    {
     "cell_type": "code",
     "collapsed": false,
     "input": [
      "def ols_shift_trim(prices, sec1, sec2, shift, p_trim):\n",
      "    \"\"\"\n",
      "    Computes shifted and outlier-trimmed regression coefficients (slope and intercept)\n",
      "    via Ordinary Least Squares between two securities.\n",
      "    \"\"\"\n",
      "    p0 = prices[sec1].shift(-shift)[:-shift]\n",
      "    p1 = prices[sec2][:-shift]\n",
      "    \n",
      "    return ols_trim_outliers(p0,p1,p_trim)"
     ],
     "language": "python",
     "metadata": {},
     "outputs": [],
     "prompt_number": 118
    },
    {
     "cell_type": "code",
     "collapsed": false,
     "input": [
      "x = df.KO\n",
      "y = df.PEP\n",
      "scatter(x,y)\n",
      "b,a = sm.OLS(y,sm.add_constant(x,prepend=True)).fit().params\n",
      "plot([min(x),max(x)],[b+a*min(x),b+a*max(x)])\n",
      "\n",
      "results,outlier_ix = ols_trim_outliers(x,y,.1)\n",
      "scatter(x.iloc[outlier_ix],y.iloc[outlier_ix],color='red')\n",
      "b,a = results.params\n",
      "plot([min(x),max(x)],[b+a*min(x),b+a*max(x)],linestyle='--')"
     ],
     "language": "python",
     "metadata": {},
     "outputs": [
      {
       "metadata": {},
       "output_type": "pyout",
       "prompt_number": 119,
       "text": [
        "[<matplotlib.lines.Line2D at 0x11126be10>]"
       ]
      },
      {
       "metadata": {},
       "output_type": "display_data",
       "png": "[encoded data removed]",
       "text": [
        "<matplotlib.figure.Figure at 0x11162fd10>"
       ]
      }
     ],
     "prompt_number": 119
    },
    {
     "cell_type": "heading",
     "level": 2,
     "metadata": {},
     "source": [
      "setting the exogenous variable as a time-lagged version of our previous independent variable (back one day) and trimming outliers"
     ]
    },
    {
     "cell_type": "code",
     "collapsed": false,
     "input": [
      "def ols_trim_outliers(x,y, p_val):\n",
      "    '''\n",
      "    returns a statsmodel RegressionResults object with linear model \n",
      "    fit info after trimming out any outliers with p value below p_val.\n",
      "    also returns the indicies that were outliers.\n",
      "    '''\n",
      "    outlier_p_vals = sm.OLS(y,sm.add_constant(x,prepend=True)).fit().outlier_test().unadj_p\n",
      "    non_outlier_indicies = np.where(outlier_p_vals > p_val)\n",
      "    outlier_indicies = np.where(outlier_p_vals < p_val)\n",
      "\n",
      "    x_trimmed = x.iloc[non_outlier_indicies]\n",
      "    y_trimmed = y.iloc[non_outlier_indicies]\n",
      "    \n",
      "    results = sm.OLS(y_trimmed,sm.add_constant(x_trimmed,prepend=True)).fit()\n",
      "    return results,outlier_indicies\n",
      "    \n",
      "shift = 1\n",
      "\n",
      "results,outlier_ix = ols_shift_trim(df,'KO','PEP',shift,.25)\n",
      "\n",
      "x,y = df.KO.shift(-shift),df.PEP\n",
      "scatter(x,y)\n",
      "scatter(x.iloc[outlier_ix],y.iloc[outlier_ix],color='red')\n",
      "b,a = results.params\n",
      "plot([min(x),max(x)],[b+a*min(x),b+a*max(x)],linestyle='--')\n"
     ],
     "language": "python",
     "metadata": {},
     "outputs": [
      {
       "metadata": {},
       "output_type": "pyout",
       "prompt_number": 120,
       "text": [
        "[<matplotlib.lines.Line2D at 0x11234f910>]"
       ]
      },
      {
       "metadata": {},
       "output_type": "display_data",
       "png": "[encoded data removed]",
       "text": [
        "<matplotlib.figure.Figure at 0x11139ad10>"
       ]
      }
     ],
     "prompt_number": 120
    },
    {
     "cell_type": "heading",
     "level": 2,
     "metadata": {},
     "source": [
      "lets check out if this makes us any money on quantopian! "
     ]
    },
    {
     "cell_type": "markdown",
     "metadata": {},
     "source": [
      "updated result: \"Runtime exception: ImportError: No module named outliers_influence\" boo!"
     ]
    },
    {
     "cell_type": "code",
     "collapsed": false,
     "input": [],
     "language": "python",
     "metadata": {},
     "outputs": []
    }
   ],
   "metadata": {}
  }
 ]
}